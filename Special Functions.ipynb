{
 "cells": [
  {
   "cell_type": "markdown",
   "metadata": {},
   "source": [
    "<h3 align = 'center'> Zip function </h3>"
   ]
  },
  {
   "cell_type": "code",
   "execution_count": 5,
   "metadata": {},
   "outputs": [
    {
     "name": "stdout",
     "output_type": "stream",
     "text": [
      "[(1, 5), (2, 2), (3, 7), (4, 8)]\n"
     ]
    }
   ],
   "source": [
    "#Zip fuction takes any amount of iterable objects as an arguments and \n",
    "#packs their correspondig elements into tuples.\n",
    "\n",
    "#example\n",
    "x = [1,2,3,4]\n",
    "y = [5,2,7,8]\n",
    "\n",
    "print(list(zip(x,y)))"
   ]
  },
  {
   "cell_type": "code",
   "execution_count": 6,
   "metadata": {},
   "outputs": [
    {
     "name": "stdout",
     "output_type": "stream",
     "text": [
      "Not Same\n",
      "Same\n",
      "Not Same\n",
      "Not Same\n"
     ]
    }
   ],
   "source": [
    "#lets say we want to check in the above lists where the corresponding variables are same or not\n",
    "\n",
    "for i, j in zip(x,y):\n",
    "    if i == j:\n",
    "        print('Same')\n",
    "    else:\n",
    "        print('Not Same')"
   ]
  },
  {
   "cell_type": "code",
   "execution_count": 7,
   "metadata": {},
   "outputs": [
    {
     "name": "stdout",
     "output_type": "stream",
     "text": [
      "[(1, 5, 'A'), (2, 2, 'B'), (3, 7, 'C')]\n"
     ]
    }
   ],
   "source": [
    "#Let's say we have three lists and the third list have one varaible less than the other two\n",
    "#in this case, the tuples made will be equal to the number of elements with the less amount of varaibles\n",
    "#i.e. zip() will return the correspinding elements combination and will omit the extra elements within the iterables.\n",
    "\n",
    "#for example\n",
    "\n",
    "x = [1,2,3,4]\n",
    "y = [5,2,7,8]\n",
    "z = ['A', 'B', 'C']\n",
    "\n",
    "print(list(zip(x,y,z)))"
   ]
  },
  {
   "cell_type": "code",
   "execution_count": 19,
   "metadata": {},
   "outputs": [
    {
     "data": {
      "text/plain": [
       "[(1, 4), (2, 5), (4, 6)]"
      ]
     },
     "execution_count": 19,
     "metadata": {},
     "output_type": "execute_result"
    }
   ],
   "source": [
    "#in conjuction with the * operator can be used to unzip a list.\n",
    "j = [1,2,4]\n",
    "k = [4,5,6]\n",
    "zipped = list(zip(j, k))\n",
    "zipped"
   ]
  },
  {
   "cell_type": "code",
   "execution_count": 20,
   "metadata": {},
   "outputs": [],
   "source": [
    "x2, y2 = list(zip(*zipped))"
   ]
  },
  {
   "cell_type": "code",
   "execution_count": 24,
   "metadata": {},
   "outputs": [
    {
     "data": {
      "text/plain": [
       "True"
      ]
     },
     "execution_count": 24,
     "metadata": {},
     "output_type": "execute_result"
    }
   ],
   "source": [
    "j == list(x2) and k == list(y2)"
   ]
  }
 ],
 "metadata": {
  "kernelspec": {
   "display_name": "Python 3",
   "language": "python",
   "name": "python3"
  },
  "language_info": {
   "codemirror_mode": {
    "name": "ipython",
    "version": 3
   },
   "file_extension": ".py",
   "mimetype": "text/x-python",
   "name": "python",
   "nbconvert_exporter": "python",
   "pygments_lexer": "ipython3",
   "version": "3.7.6"
  }
 },
 "nbformat": 4,
 "nbformat_minor": 4
}
