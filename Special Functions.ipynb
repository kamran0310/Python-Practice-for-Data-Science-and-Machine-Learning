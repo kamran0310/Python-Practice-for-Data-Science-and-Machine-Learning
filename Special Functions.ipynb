{
 "cells": [
  {
   "cell_type": "markdown",
   "metadata": {},
   "source": [
    "<h3 align = 'center'> Zip function </h3>"
   ]
  },
  {
   "cell_type": "code",
   "execution_count": 5,
   "metadata": {},
   "outputs": [
    {
     "name": "stdout",
     "output_type": "stream",
     "text": [
      "[(1, 5), (2, 2), (3, 7), (4, 8)]\n"
     ]
    }
   ],
   "source": [
    "#Zip fuction takes any amount of iterable objects as an arguments and \n",
    "#packs their correspondig elements into tuples.\n",
    "\n",
    "#example\n",
    "x = [1,2,3,4]\n",
    "y = [5,2,7,8]\n",
    "\n",
    "print(list(zip(x,y)))"
   ]
  },
  {
   "cell_type": "code",
   "execution_count": 6,
   "metadata": {},
   "outputs": [
    {
     "name": "stdout",
     "output_type": "stream",
     "text": [
      "Not Same\n",
      "Same\n",
      "Not Same\n",
      "Not Same\n"
     ]
    }
   ],
   "source": [
    "#lets say we want to check in the above lists where the corresponding variables are same or not\n",
    "\n",
    "for i, j in zip(x,y):\n",
    "    if i == j:\n",
    "        print('Same')\n",
    "    else:\n",
    "        print('Not Same')"
   ]
  },
  {
   "cell_type": "code",
   "execution_count": 7,
   "metadata": {},
   "outputs": [
    {
     "name": "stdout",
     "output_type": "stream",
     "text": [
      "[(1, 5, 'A'), (2, 2, 'B'), (3, 7, 'C')]\n"
     ]
    }
   ],
   "source": [
    "#Let's say we have three lists and the third list have one varaible less than the other two\n",
    "#in this case, the tuples made will be equal to the number of elements with the less amount of varaibles\n",
    "#i.e. zip() will return the correspinding elements combination and will omit the extra elements within the iterables.\n",
    "\n",
    "#for example\n",
    "\n",
    "x = [1,2,3,4]\n",
    "y = [5,2,7,8]\n",
    "z = ['A', 'B', 'C']\n",
    "\n",
    "print(list(zip(x,y,z)))"
   ]
  },
  {
   "cell_type": "code",
   "execution_count": 19,
   "metadata": {},
   "outputs": [
    {
     "data": {
      "text/plain": [
       "[(1, 4), (2, 5), (4, 6)]"
      ]
     },
     "execution_count": 19,
     "metadata": {},
     "output_type": "execute_result"
    }
   ],
   "source": [
    "#in conjuction with the * operator can be used to unzip a list.\n",
    "j = [1,2,4]\n",
    "k = [4,5,6]\n",
    "zipped = list(zip(j, k))\n",
    "zipped"
   ]
  },
  {
   "cell_type": "code",
   "execution_count": 20,
   "metadata": {},
   "outputs": [],
   "source": [
    "x2, y2 = list(zip(*zipped))"
   ]
  },
  {
   "cell_type": "code",
   "execution_count": 24,
   "metadata": {},
   "outputs": [
    {
     "data": {
      "text/plain": [
       "True"
      ]
     },
     "execution_count": 24,
     "metadata": {},
     "output_type": "execute_result"
    }
   ],
   "source": [
    "j == list(x2) and k == list(y2)"
   ]
  },
  {
   "cell_type": "markdown",
   "metadata": {},
   "source": [
    "<h3 align = 'center' > Lambda function </h3>"
   ]
  },
  {
   "cell_type": "code",
   "execution_count": 31,
   "metadata": {},
   "outputs": [
    {
     "data": {
      "text/plain": [
       "8"
      ]
     },
     "execution_count": 31,
     "metadata": {},
     "output_type": "execute_result"
    }
   ],
   "source": [
    "#python functions are simple enough and can be written on the fly without using fomral way \n",
    "#and these are called lambda functions.\n",
    "\n",
    "#example: the following function named raised_to_power is written on the using lambda function\n",
    "\n",
    "raised_to_power = lambda x, y: x ** y\n",
    "raised_to_power(2,3)"
   ]
  },
  {
   "cell_type": "code",
   "execution_count": 33,
   "metadata": {},
   "outputs": [
    {
     "data": {
      "text/plain": [
       "<map at 0xe1be8f3548>"
      ]
     },
     "execution_count": 33,
     "metadata": {},
     "output_type": "execute_result"
    }
   ],
   "source": [
    "#lambda functions are not a panacea which can be applied everywhere. \n",
    "#but sometime they may come very handy.\n",
    "#for example using map() with lambda fuction.\n",
    "#map function takes two arguments 1). a sequence. 2). a function. \n",
    "#it applies the function to all the elements of the sequence.\n",
    "#we can pass lambda function to the map function and in that case it is \n",
    "#called anonumous function.\n",
    "\n",
    "#example:\n",
    "\n",
    "nums = [2,4,5,6,7]\n",
    "\n",
    "square_all = map(lambda num: num**2, nums)\n",
    "square_all #map object, we use list() method to see what it has returned."
   ]
  },
  {
   "cell_type": "code",
   "execution_count": 34,
   "metadata": {},
   "outputs": [
    {
     "name": "stdout",
     "output_type": "stream",
     "text": [
      "[4, 16, 25, 36, 49]\n"
     ]
    }
   ],
   "source": [
    "print(list(square_all))"
   ]
  },
  {
   "cell_type": "code",
   "execution_count": 35,
   "metadata": {},
   "outputs": [],
   "source": [
    "#one more example\n",
    "#write a lambda function which take a word and multiply it with the number of our choice we send as an argumen\n",
    "echo_world = lambda word1, echo: word1*echo\n",
    "result = echo_world('hey', 5)"
   ]
  },
  {
   "cell_type": "code",
   "execution_count": 37,
   "metadata": {},
   "outputs": [
    {
     "data": {
      "text/plain": [
       "'heyheyheyheyhey'"
      ]
     },
     "execution_count": 37,
     "metadata": {},
     "output_type": "execute_result"
    }
   ],
   "source": [
    "result"
   ]
  }
 ],
 "metadata": {
  "kernelspec": {
   "display_name": "Python 3",
   "language": "python",
   "name": "python3"
  },
  "language_info": {
   "codemirror_mode": {
    "name": "ipython",
    "version": 3
   },
   "file_extension": ".py",
   "mimetype": "text/x-python",
   "name": "python",
   "nbconvert_exporter": "python",
   "pygments_lexer": "ipython3",
   "version": "3.7.6"
  }
 },
 "nbformat": 4,
 "nbformat_minor": 4
}
